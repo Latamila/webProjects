{
  "nbformat": 4,
  "nbformat_minor": 0,
  "metadata": {
    "colab": {
      "provenance": [],
      "authorship_tag": "ABX9TyM9EvdwzBmS9aiYdIPQyfww",
      "include_colab_link": true
    },
    "kernelspec": {
      "name": "python3",
      "display_name": "Python 3"
    },
    "language_info": {
      "name": "python"
    }
  },
  "cells": [
    {
      "cell_type": "markdown",
      "metadata": {
        "id": "view-in-github",
        "colab_type": "text"
      },
      "source": [
        "<a href=\"https://colab.research.google.com/github/Latamila/webProjects/blob/main/Cliente_socket_UDP.ipynb\" target=\"_parent\"><img src=\"https://colab.research.google.com/assets/colab-badge.svg\" alt=\"Open In Colab\"/></a>"
      ]
    },
    {
      "cell_type": "code",
      "execution_count": 1,
      "metadata": {
        "id": "i6P8aWPso9sW"
      },
      "outputs": [],
      "source": [
        "import socket"
      ]
    },
    {
      "cell_type": "code",
      "source": [
        "from socket import *"
      ],
      "metadata": {
        "id": "ye9IBWU5pJPA"
      },
      "execution_count": 2,
      "outputs": []
    },
    {
      "cell_type": "code",
      "source": [
        "servidor = '127.0.0.1' #local host\n",
        "porta = 43210\n",
        "\n",
        "obj_socket = socket(AF_INET, SOCK_DGRAM)\n",
        "obj_socket.connect((servidor, porta))\n",
        "saida = ''\n",
        "while saida != 'X':\n",
        "  msg = input('sua mensagem:')\n",
        "  obj_socket.sendto(msg.encode(), (servidor,porta))\n",
        "  dados, origem = obj_socket.recvfrom(65535)\n",
        "  print('resposta do servidor: ', dados.decode())\n",
        "  saida = input('digite <X> para sair: ').upper()\n",
        "\n",
        "\n",
        "obj_socket.close()"
      ],
      "metadata": {
        "id": "FT7qrfg2qGjV"
      },
      "execution_count": null,
      "outputs": []
    },
    {
      "cell_type": "code",
      "source": [],
      "metadata": {
        "id": "-MDIovk5puii"
      },
      "execution_count": null,
      "outputs": []
    }
  ]
}