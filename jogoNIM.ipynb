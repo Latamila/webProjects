{
  "nbformat": 4,
  "nbformat_minor": 0,
  "metadata": {
    "colab": {
      "provenance": [],
      "authorship_tag": "ABX9TyPQZuhlJrGKe0fGw5HjDYFT",
      "include_colab_link": true
    },
    "kernelspec": {
      "name": "python3",
      "display_name": "Python 3"
    },
    "language_info": {
      "name": "python"
    }
  },
  "cells": [
    {
      "cell_type": "markdown",
      "metadata": {
        "id": "view-in-github",
        "colab_type": "text"
      },
      "source": [
        "<a href=\"https://colab.research.google.com/github/Latamila/webProjects/blob/main/jogoNIM.ipynb\" target=\"_parent\"><img src=\"https://colab.research.google.com/assets/colab-badge.svg\" alt=\"Open In Colab\"/></a>"
      ]
    },
    {
      "cell_type": "code",
      "source": [
        "escolha = 0\n",
        "\n",
        "while escolha == 0:\n",
        "  print('''\n",
        "  Bem-vindo ao jogo do NIM! Escolha:\n",
        "\n",
        "  1 - para jogar uma partida isolada\n",
        "  2 - para jogar um campeonato\n",
        "\n",
        "  ''')\n",
        "\n",
        "  escolha = input()\n",
        "  if escolha == '1':\n",
        "    print(f'Você escolheu uma partida isolada')\n",
        "    partida()\n",
        "    breakpoint\n",
        "  elif escolha == '2':\n",
        "    print('Voce escolheu um campeonato!')\n",
        "    campeonato()\n",
        "    breakpoint\n",
        "  else:\n",
        "    print('opção invalida')\n",
        "    escolha = 0"
      ],
      "metadata": {
        "id": "1HTjPJyYizwY"
      },
      "execution_count": null,
      "outputs": []
    },
    {
      "cell_type": "code",
      "source": [
        "def computador_escolhe_jogada(n,m):\n",
        "  if n <= m:\n",
        "    return n\n",
        "  else:\n",
        "    multiplo = n % (m+1)\n",
        "\n",
        "    if multiplo > 0:\n",
        "      return  multiplo\n",
        "\n",
        "    #se nao for multiplo\n",
        "    return m"
      ],
      "metadata": {
        "id": "ePqe04JxhtP1"
      },
      "execution_count": 175,
      "outputs": []
    },
    {
      "cell_type": "code",
      "source": [
        "computador_escolhe_jogada(11,4)"
      ],
      "metadata": {
        "colab": {
          "base_uri": "https://localhost:8080/"
        },
        "id": "_fqHBUMtk-Bx",
        "outputId": "1265d6b7-a189-4d16-9242-78933f282879"
      },
      "execution_count": 206,
      "outputs": [
        {
          "output_type": "execute_result",
          "data": {
            "text/plain": [
              "1"
            ]
          },
          "metadata": {},
          "execution_count": 206
        }
      ]
    },
    {
      "cell_type": "code",
      "source": [
        "def usuario_escolhe_jogada(n,m):\n",
        "  quantia = 0\n",
        "\n",
        "  while quantia == 0:\n",
        "    quantia =  int(input('Quantas peças você vai tirar?:  '))\n",
        "    if quantia < 0 or quantia > m:\n",
        "      print('\\nOops! Jogada inválida! Tente de novo.\\n')\n",
        "      quantia = 0\n",
        "\n",
        "  return quantia\n",
        ""
      ],
      "metadata": {
        "id": "3l6rfvVVI8KJ"
      },
      "execution_count": 201,
      "outputs": []
    },
    {
      "cell_type": "code",
      "source": [
        "usuario_escolhe_jogada(15,3)"
      ],
      "metadata": {
        "colab": {
          "base_uri": "https://localhost:8080/"
        },
        "id": "aYc_7klciiGN",
        "outputId": "b8bd3d66-aa36-45ac-894d-93f9d51b4c2c"
      },
      "execution_count": 202,
      "outputs": [
        {
          "name": "stdout",
          "output_type": "stream",
          "text": [
            "Quantas peças você vai tirar?:  5\n",
            "\n",
            "Oops! Jogada inválida! Tente de novo.\n",
            "\n",
            "Quantas peças você vai tirar?:  3\n"
          ]
        },
        {
          "output_type": "execute_result",
          "data": {
            "text/plain": [
              "3"
            ]
          },
          "metadata": {},
          "execution_count": 202
        }
      ]
    },
    {
      "cell_type": "code",
      "source": [
        "def partida():\n",
        "  n = int(input('Quantas peças? '))\n",
        "  m = int(input('Limite de peças por jogada? '))\n",
        "\n",
        "  vez_do_pc = True\n",
        "#decide quem começa o jogo\n",
        "  if n % (m+1) == 0:\n",
        "    vez_do_pc = False\n",
        "    print(\"\\nVocê começa!\\n\")\n",
        "  else:\n",
        "    print('\\nComputador começa!\\n')\n",
        "\n",
        "  while n > 0:\n",
        "    if vez_do_pc:\n",
        "      jogada = computador_escolhe_jogada(n,m)\n",
        "      vez_do_pc = False\n",
        "      if jogada == 1:\n",
        "        print(f'\\nComputador tirou {jogada} peça.\\n')\n",
        "      else:\n",
        "        print(f'\\nComputador tirou {jogada} peças.\\n')\n",
        "    else:\n",
        "      jogada = usuario_escolhe_jogada(n,m)\n",
        "      vez_do_pc = True\n",
        "      if jogada == 1:\n",
        "        print(f'\\nVocê tirou {jogada} peça.\\n')\n",
        "      else:\n",
        "        print(f'\\nVocê tirou {jogada} peças.\\n')\n",
        "\n",
        "    #retira as peças do jogo\n",
        "    n = n - jogada\n",
        "\n",
        "    # mostra o estado atual da jogada\n",
        "    if n == 1:\n",
        "      print('\\nAgora resta apenas uma peça em jogo.\\n')\n",
        "    elif n > 1:\n",
        "      print(f'\\nAgora restam {n} peças em jogo.\\n')\n",
        "\n",
        "  if vez_do_pc:\n",
        "    print('\\nVocê ganhou!\\n')\n",
        "    return 1\n",
        "  else:\n",
        "    print('\\nO computador ganhou!\\n')\n",
        "    return 0"
      ],
      "metadata": {
        "id": "vKMxQB1de88H"
      },
      "execution_count": 222,
      "outputs": []
    },
    {
      "cell_type": "code",
      "source": [
        "partida()"
      ],
      "metadata": {
        "colab": {
          "base_uri": "https://localhost:8080/"
        },
        "id": "slsIHFbSpr7y",
        "outputId": "dd981e8d-975d-4a1f-868e-1267f0b3705f"
      },
      "execution_count": 223,
      "outputs": [
        {
          "output_type": "stream",
          "name": "stdout",
          "text": [
            "Quantas peças? 15\n",
            "Limite de peças por jogada? 3\n",
            "\n",
            "Computador começa!\n",
            "\n",
            "\n",
            "Computador tirou 3 peças.\n",
            "\n",
            "\n",
            "Agora restam 12 peças em jogo.\n",
            "\n",
            "Quantas peças você vai tirar?:  3\n",
            "\n",
            "Você tirou 3 peças.\n",
            "\n",
            "\n",
            "Agora restam 9 peças em jogo.\n",
            "\n",
            "\n",
            "Computador tirou 1 peça.\n",
            "\n",
            "\n",
            "Agora restam 8 peças em jogo.\n",
            "\n",
            "Quantas peças você vai tirar?:  3\n",
            "\n",
            "Você tirou 3 peças.\n",
            "\n",
            "\n",
            "Agora restam 5 peças em jogo.\n",
            "\n",
            "\n",
            "Computador tirou 1 peça.\n",
            "\n",
            "\n",
            "Agora restam 4 peças em jogo.\n",
            "\n",
            "Quantas peças você vai tirar?:  3\n",
            "\n",
            "Você tirou 3 peças.\n",
            "\n",
            "\n",
            "Agora resta apenas uma peça em jogo.\n",
            "\n",
            "\n",
            "Computador tirou 1 peça.\n",
            "\n",
            "\n",
            "O computador ganhou!\n",
            "\n"
          ]
        },
        {
          "output_type": "execute_result",
          "data": {
            "text/plain": [
              "0"
            ]
          },
          "metadata": {},
          "execution_count": 223
        }
      ]
    },
    {
      "cell_type": "code",
      "source": [
        "def campeonato():\n",
        "\n",
        "  #pontuações\n",
        "  usuario = 0\n",
        "  computador = 0\n",
        "\n",
        "  #executa 3 vezes\n",
        "  for i in range(1,4):\n",
        "    print('\\n**** Rodada',i, '****\\n')\n",
        "    #verifica o resultado\n",
        "    vencedor = partida()\n",
        "\n",
        "    #verifica e soma\n",
        "    if vencedor == 1:\n",
        "      usuario = usuario + 1\n",
        "    else:\n",
        "      #computador\n",
        "      computador = computador + 1\n",
        "\n",
        "    #placar\n",
        "    print('\\n**** Final do Campeonato! ****\\n')\n",
        "    print(f'Placar Final: Você {usuario} X {computador} Computador')\n"
      ],
      "metadata": {
        "id": "bPO6H6TOptv_"
      },
      "execution_count": 197,
      "outputs": []
    },
    {
      "cell_type": "code",
      "source": [
        "campeonato()"
      ],
      "metadata": {
        "colab": {
          "base_uri": "https://localhost:8080/"
        },
        "id": "Zh7DVyiRxEFd",
        "outputId": "449a306a-eeb1-4129-d561-392fef114a38"
      },
      "execution_count": 200,
      "outputs": [
        {
          "output_type": "stream",
          "name": "stdout",
          "text": [
            "\n",
            "**** Rodada 1 ****\n",
            "\n",
            "Quantas peças? 25\n",
            "Limite de peças por jogada? 5\n",
            "Computador retirou 1 peças.\n",
            "Restam apenas 24 peças em jogo.\n",
            "Quantas peças você vai tirar?:  5\n",
            "Você retirou 5 peças.\n",
            "Restam apenas 19 peças em jogo.\n",
            "Computador retirou 1 peças.\n",
            "Restam apenas 18 peças em jogo.\n",
            "Quantas peças você vai tirar?:  5\n",
            "Você retirou 5 peças.\n",
            "Restam apenas 13 peças em jogo.\n",
            "Computador retirou 1 peças.\n",
            "Restam apenas 12 peças em jogo.\n",
            "Quantas peças você vai tirar?:  5\n",
            "Você retirou 5 peças.\n",
            "Restam apenas 7 peças em jogo.\n",
            "Computador retirou 1 peças.\n",
            "Restam apenas 6 peças em jogo.\n",
            "Quantas peças você vai tirar?:  3\n",
            "Você retirou 3 peças.\n",
            "Restam apenas 3 peças em jogo.\n",
            "Computador retirou 3 peças.\n",
            "Restam apenas 0 peças em jogo.\n",
            "O computador ganhou!\n",
            "\n",
            "**** Final do Campeonato! ****\n",
            "\n",
            "Placar Final: Você 0 X 1 Computador\n",
            "\n",
            "**** Rodada 2 ****\n",
            "\n",
            "Quantas peças? 20\n",
            "Limite de peças por jogada? 4\n",
            "Quantas peças você vai tirar?:  3\n",
            "Você retirou 3 peças.\n",
            "Restam apenas 17 peças em jogo.\n",
            "Computador retirou 2 peças.\n",
            "Restam apenas 15 peças em jogo.\n",
            "Quantas peças você vai tirar?:  5\n",
            "Oops! Jogada inválida! Tente de novo.\n",
            "Quantas peças você vai tirar?:  3\n",
            "Você retirou 3 peças.\n",
            "Restam apenas 12 peças em jogo.\n",
            "Computador retirou 2 peças.\n",
            "Restam apenas 10 peças em jogo.\n",
            "Quantas peças você vai tirar?:  4\n",
            "Você retirou 4 peças.\n",
            "Restam apenas 6 peças em jogo.\n",
            "Computador retirou 1 peças.\n",
            "Restam apenas 5 peças em jogo.\n",
            "Quantas peças você vai tirar?:  4\n",
            "Você retirou 4 peças.\n",
            "Restam apenas 1 peças em jogo.\n",
            "Computador retirou 1 peças.\n",
            "Restam apenas 0 peças em jogo.\n",
            "O computador ganhou!\n",
            "\n",
            "**** Final do Campeonato! ****\n",
            "\n",
            "Placar Final: Você 0 X 2 Computador\n",
            "\n",
            "**** Rodada 3 ****\n",
            "\n",
            "Quantas peças? 3\n",
            "Limite de peças por jogada? 1\n",
            "Computador retirou 1 peças.\n",
            "Restam apenas 2 peças em jogo.\n",
            "Quantas peças você vai tirar?:  1\n",
            "Você retirou 1 peças.\n",
            "Restam apenas 1 peças em jogo.\n",
            "Computador retirou 1 peças.\n",
            "Restam apenas 0 peças em jogo.\n",
            "O computador ganhou!\n",
            "\n",
            "**** Final do Campeonato! ****\n",
            "\n",
            "Placar Final: Você 0 X 3 Computador\n"
          ]
        }
      ]
    },
    {
      "cell_type": "code",
      "source": [],
      "metadata": {
        "id": "9osBMcc4yfVL"
      },
      "execution_count": null,
      "outputs": []
    }
  ]
}