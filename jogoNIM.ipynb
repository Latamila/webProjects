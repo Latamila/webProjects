{
  "nbformat": 4,
  "nbformat_minor": 0,
  "metadata": {
    "colab": {
      "provenance": [],
      "authorship_tag": "ABX9TyOiPak4XVpSSJCg+fjGx38A",
      "include_colab_link": true
    },
    "kernelspec": {
      "name": "python3",
      "display_name": "Python 3"
    },
    "language_info": {
      "name": "python"
    }
  },
  "cells": [
    {
      "cell_type": "markdown",
      "metadata": {
        "id": "view-in-github",
        "colab_type": "text"
      },
      "source": [
        "<a href=\"https://colab.research.google.com/github/Latamila/webProjects/blob/main/jogoNIM.ipynb\" target=\"_parent\"><img src=\"https://colab.research.google.com/assets/colab-badge.svg\" alt=\"Open In Colab\"/></a>"
      ]
    },
    {
      "cell_type": "code",
      "source": [
        "def computador_escolhe_jogada(n, m):\n",
        "    # Estratégia vencedora: deixar múltiplos de (m+1) peças ao jogador\n",
        "    if n % (m + 1) == 0:#se for multiplo de m+1, se retira m peças\n",
        "        return m\n",
        "    else:\n",
        "        return n % (m + 1)# retira apenas o resto assim fica o multiplo de m+1"
      ],
      "metadata": {
        "id": "DFnToRLLzg_8"
      },
      "execution_count": 1,
      "outputs": []
    },
    {
      "cell_type": "code",
      "source": [
        "computador_escolhe_jogada(16,4)"
      ],
      "metadata": {
        "colab": {
          "base_uri": "https://localhost:8080/"
        },
        "id": "_fqHBUMtk-Bx",
        "outputId": "641b99eb-8e5c-4cd3-ce3d-e24748b742ac"
      },
      "execution_count": 2,
      "outputs": [
        {
          "output_type": "execute_result",
          "data": {
            "text/plain": [
              "1"
            ]
          },
          "metadata": {},
          "execution_count": 2
        }
      ]
    },
    {
      "cell_type": "code",
      "source": [
        "def usuario_escolhe_jogada(n, m):\n",
        "    while True:\n",
        "        try:\n",
        "            jogada = int(input(f'Quantas peças você vai tirar (1-{m}): '))\n",
        "            if 1 <= jogada <= m and jogada <= n:\n",
        "                return jogada\n",
        "            else:\n",
        "                print(f'Oops! Jogada inválida! Tente de novo.')\n",
        "        except ValueError:\n",
        "            print('Oops! Jogada inválida! Tente de novo.')\n"
      ],
      "metadata": {
        "id": "UmswGJV80DZU"
      },
      "execution_count": 3,
      "outputs": []
    },
    {
      "cell_type": "code",
      "source": [
        "usuario_escolhe_jogada(15,3)"
      ],
      "metadata": {
        "colab": {
          "base_uri": "https://localhost:8080/"
        },
        "id": "F3oJOJf0mIu_",
        "outputId": "06d0d2d0-6e94-4954-bfb3-b5caf22aa06b"
      },
      "execution_count": 4,
      "outputs": [
        {
          "name": "stdout",
          "output_type": "stream",
          "text": [
            "Quantas peças você vai tirar (1-3): 2,3\n",
            "Oops! Jogada inválida! Tente de novo.\n",
            "Quantas peças você vai tirar (1-3): 3 ,2 \n",
            "Oops! Jogada inválida! Tente de novo.\n",
            "Quantas peças você vai tirar (1-3): ddy\n",
            "Oops! Jogada inválida! Tente de novo.\n",
            "Quantas peças você vai tirar (1-3): 3\n"
          ]
        },
        {
          "output_type": "execute_result",
          "data": {
            "text/plain": [
              "3"
            ]
          },
          "metadata": {},
          "execution_count": 4
        }
      ]
    },
    {
      "cell_type": "code",
      "source": [
        "def partida():\n",
        "    n = int(input('Quantas peças? '))\n",
        "    m = int(input('Limite de peças por jogada? '))\n",
        "\n",
        "    vez_do_pc = n % (m + 1) != 0\n",
        "\n",
        "    if vez_do_pc:\n",
        "        print(\"\\nComputador começa!\\n\")\n",
        "    else:\n",
        "        print(\"\\nVocê começa!\\n\")\n",
        "\n",
        "    while n > 0:\n",
        "        if vez_do_pc:\n",
        "            jogada = computador_escolhe_jogada(n, m)\n",
        "            print(f'O computador tirou {jogada} peça{\"s\" if jogada > 1 else \"\"}.')\n",
        "        else:\n",
        "            jogada = usuario_escolhe_jogada(n, m)\n",
        "            print(f'Você tirou {jogada} peça{\"s\" if jogada > 1 else \"\"}.')\n",
        "\n",
        "        n -= jogada\n",
        "\n",
        "        if n == 1:\n",
        "            print('\\nAgora resta apenas uma peça no tabuleiro.\\n')\n",
        "        elif n > 1:\n",
        "            print(f'\\nAgora restam {n} peças no tabuleiro.\\n')\n",
        "\n",
        "        vez_do_pc = not vez_do_pc\n",
        "\n",
        "    if not vez_do_pc:  # Corrigido aqui\n",
        "        print('Fim do jogo! O computador ganhou!\\n')\n",
        "        return 0\n",
        "    else:\n",
        "        print('Fim do jogo! Você ganhou!\\n')\n",
        "        return 1\n",
        "\n"
      ],
      "metadata": {
        "id": "oQnsBhtk2GZ1"
      },
      "execution_count": 5,
      "outputs": []
    },
    {
      "cell_type": "code",
      "source": [
        "def campeonato():\n",
        "    placar_usuario = 0\n",
        "    placar_computador = 0\n",
        "\n",
        "    for rodada in range(1, 4):\n",
        "        print(f'\\n**** Rodada {rodada} ****\\n')\n",
        "        resultado = partida()\n",
        "\n",
        "        if resultado == 0:\n",
        "            placar_computador += 1\n",
        "        else:\n",
        "            placar_usuario += 1\n",
        "\n",
        "    print('\\n**** Final do campeonato! ****\\n')\n",
        "    print(f'Placar: Você {placar_usuario} X {placar_computador} Computador')\n"
      ],
      "metadata": {
        "id": "ClzznDve8SNm"
      },
      "execution_count": 16,
      "outputs": []
    },
    {
      "cell_type": "code",
      "source": [
        "campeonato()"
      ],
      "metadata": {
        "colab": {
          "base_uri": "https://localhost:8080/"
        },
        "id": "Zh7DVyiRxEFd",
        "outputId": "57f0f113-1b34-4f07-adf9-9abc0c826e0f"
      },
      "execution_count": 17,
      "outputs": [
        {
          "output_type": "stream",
          "name": "stdout",
          "text": [
            "\n",
            "**** Rodada 1 ****\n",
            "\n",
            "Quantas peças? 10\n",
            "Limite de peças por jogada? 10\n",
            "\n",
            "Computador começa!\n",
            "\n",
            "O computador tirou 10 peças.\n",
            "Fim do jogo! O computador ganhou!\n",
            "\n",
            "\n",
            "**** Rodada 2 ****\n",
            "\n",
            "Quantas peças? 5\n",
            "Limite de peças por jogada? 6\n",
            "\n",
            "Computador começa!\n",
            "\n",
            "O computador tirou 5 peças.\n",
            "Fim do jogo! O computador ganhou!\n",
            "\n",
            "\n",
            "**** Rodada 3 ****\n",
            "\n",
            "Quantas peças? 2\n",
            "Limite de peças por jogada? 1\n",
            "\n",
            "Você começa!\n",
            "\n",
            "Quantas peças você vai tirar (1-1): 1\n",
            "Você tirou 1 peça.\n",
            "\n",
            "Agora resta apenas uma peça no tabuleiro.\n",
            "\n",
            "O computador tirou 1 peça.\n",
            "Fim do jogo! O computador ganhou!\n",
            "\n",
            "\n",
            "**** Final do campeonato! ****\n",
            "\n",
            "Placar: Você 0 X 3 Computador\n"
          ]
        }
      ]
    },
    {
      "cell_type": "code",
      "source": [
        "if __name__ == \"__main__\":#uma função que inicia o jogo\n",
        "    print(\"Bem-vindo ao jogo do NIM! Escolha:\\n1 - para jogar uma partida isolada\\n2 - para jogar um campeonato\")\n",
        "\n",
        "    escolha = int(input())\n",
        "\n",
        "    if escolha == 1:\n",
        "        print(\"\\nVocê escolheu uma partida!\\n\")\n",
        "        partida()\n",
        "    elif escolha == 2:\n",
        "        print(\"\\nVocê escolheu um campeonato!\\n\")\n",
        "        campeonato()\n",
        "    else:\n",
        "        print(\"\\nOpção inválida. Escolha 1 ou 2.\")"
      ],
      "metadata": {
        "colab": {
          "base_uri": "https://localhost:8080/"
        },
        "id": "Ixomp0_q9Dfo",
        "outputId": "2d0640db-e86b-4262-c699-941597abf856"
      },
      "execution_count": 18,
      "outputs": [
        {
          "output_type": "stream",
          "name": "stdout",
          "text": [
            "Bem-vindo ao jogo do NIM! Escolha:\n",
            "1 - para jogar uma partida isolada\n",
            "2 - para jogar um campeonato\n",
            "1\n",
            "\n",
            "Você escolheu uma partida!\n",
            "\n",
            "Quantas peças? 10\n",
            "Limite de peças por jogada? 10\n",
            "\n",
            "Computador começa!\n",
            "\n",
            "O computador tirou 10 peças.\n",
            "Fim do jogo! O computador ganhou!\n",
            "\n"
          ]
        }
      ]
    },
    {
      "cell_type": "code",
      "source": [
        "def computador_escolhe_jogada(n, m):\n",
        "    # Estratégia vencedora: deixar múltiplos de (m+1) peças ao jogador\n",
        "    if n % (m + 1) == 0:\n",
        "        return m\n",
        "    else:\n",
        "        return n % (m + 1)\n",
        "\n",
        "def usuario_escolhe_jogada(n, m):\n",
        "    while True:\n",
        "        try:\n",
        "            jogada = int(input(f'Quantas peças você vai tirar (1-{m}): '))\n",
        "            if 1 <= jogada <= m and jogada <= n:\n",
        "                return jogada\n",
        "            else:\n",
        "                print(f'Oops! Jogada inválida! Tente de novo.')\n",
        "        except ValueError:\n",
        "            print('Oops! Jogada inválida! Tente de novo.')\n",
        "\n",
        "def partida():\n",
        "    n = int(input('Quantas peças? '))\n",
        "    m = int(input('Limite de peças por jogada? '))\n",
        "\n",
        "    vez_do_pc = n % (m + 1) != 0\n",
        "\n",
        "    if vez_do_pc:\n",
        "        print(\"\\nComputador começa!\\n\")\n",
        "    else:\n",
        "        print(\"\\nVocê começa!\\n\")\n",
        "\n",
        "    while n > 0:\n",
        "        if vez_do_pc:\n",
        "            jogada = computador_escolhe_jogada(n, m)\n",
        "            print(f'O computador tirou {jogada} peça{\"s\" if jogada > 1 else \"\"}.')\n",
        "        else:\n",
        "            jogada = usuario_escolhe_jogada(n, m)\n",
        "            print(f'Você tirou {jogada} peça{\"s\" if jogada > 1 else \"\"}.')\n",
        "\n",
        "        n -= jogada\n",
        "\n",
        "        if n == 1:\n",
        "            print('\\nAgora resta apenas uma peça no tabuleiro.\\n')\n",
        "        elif n > 1:\n",
        "            print(f'\\nAgora restam {n} peças no tabuleiro.\\n')\n",
        "\n",
        "        vez_do_pc = not vez_do_pc\n",
        "\n",
        "    if not vez_do_pc:  # Corrigido aqui\n",
        "        print('Fim do jogo! O computador ganhou!\\n')\n",
        "        return 0\n",
        "    else:\n",
        "        print('Fim do jogo! Você ganhou!\\n')\n",
        "        return 1\n",
        "\n",
        "def campeonato():\n",
        "    placar_usuario = 0\n",
        "    placar_computador = 0\n",
        "\n",
        "    for rodada in range(1, 4):\n",
        "        print(f'\\n**** Rodada {rodada} ****\\n')\n",
        "        resultado = partida()\n",
        "\n",
        "        if resultado == 0:\n",
        "            placar_computador += 1\n",
        "        else:\n",
        "            placar_usuario += 1\n",
        "\n",
        "    print('\\n**** Final do campeonato! ****\\n')\n",
        "    print(f'Placar: Você {placar_usuario} X {placar_computador} Computador')\n",
        "\n",
        "if __name__ == \"__main__\":\n",
        "    print(\"Bem-vindo ao jogo do NIM! Escolha:\\n1 - para jogar uma partida isolada\\n2 - para jogar um campeonato\")\n",
        "\n",
        "    escolha = int(input())\n",
        "\n",
        "    if escolha == 1:\n",
        "        print(\"\\nVocê escolheu uma partida!\\n\")\n",
        "        partida()\n",
        "    elif escolha == 2:\n",
        "        print(\"\\nVocê escolheu um campeonato!\\n\")\n",
        "        campeonato()\n",
        "    else:\n",
        "        print(\"\\nOpção inválida. Escolha 1 ou 2.\")\n"
      ],
      "metadata": {
        "colab": {
          "base_uri": "https://localhost:8080/"
        },
        "id": "HllF1cuej28g",
        "outputId": "cde288e1-7801-4151-f0cf-51ed52cc4489"
      },
      "execution_count": 39,
      "outputs": [
        {
          "output_type": "stream",
          "name": "stdout",
          "text": [
            "Bem-vindo ao jogo do NIM! Escolha:\n",
            "1 - para jogar uma partida isolada\n",
            "2 - para jogar um campeonato\n",
            "1\n",
            "\n",
            "Você escolheu uma partida!\n",
            "\n",
            "Quantas peças? 10\n",
            "Limite de peças por jogada? 10\n",
            "\n",
            "Computador começa!\n",
            "\n",
            "O computador tirou 10 peças.\n",
            "Fim do jogo! O computador ganhou!\n",
            "\n"
          ]
        }
      ]
    },
    {
      "cell_type": "code",
      "source": [],
      "metadata": {
        "id": "DXaxeunDxt0t"
      },
      "execution_count": null,
      "outputs": []
    }
  ]
}