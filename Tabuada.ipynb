{
  "nbformat": 4,
  "nbformat_minor": 0,
  "metadata": {
    "colab": {
      "provenance": [],
      "authorship_tag": "ABX9TyNuyU/XGWG5Om9AsC+itDaS",
      "include_colab_link": true
    },
    "kernelspec": {
      "name": "python3",
      "display_name": "Python 3"
    },
    "language_info": {
      "name": "python"
    }
  },
  "cells": [
    {
      "cell_type": "markdown",
      "metadata": {
        "id": "view-in-github",
        "colab_type": "text"
      },
      "source": [
        "<a href=\"https://colab.research.google.com/github/Latamila/webProjects/blob/main/Tabuada.ipynb\" target=\"_parent\"><img src=\"https://colab.research.google.com/assets/colab-badge.svg\" alt=\"Open In Colab\"/></a>"
      ]
    },
    {
      "cell_type": "code",
      "execution_count": 3,
      "metadata": {
        "colab": {
          "base_uri": "https://localhost:8080/"
        },
        "id": "rvpKT9SP_Ub0",
        "outputId": "add954a3-5a55-4b1d-9375-0fd4562813a6"
      },
      "outputs": [
        {
          "output_type": "stream",
          "name": "stdout",
          "text": [
            "1\t2\t3\t4\t5\t6\t7\t8\t9\t10\t\n",
            "2\t4\t6\t8\t10\t12\t14\t16\t18\t20\t\n",
            "3\t6\t9\t12\t15\t18\t21\t24\t27\t30\t\n",
            "4\t8\t12\t16\t20\t24\t28\t32\t36\t40\t\n",
            "5\t10\t15\t20\t25\t30\t35\t40\t45\t50\t\n",
            "6\t12\t18\t24\t30\t36\t42\t48\t54\t60\t\n",
            "7\t14\t21\t28\t35\t42\t49\t56\t63\t70\t\n",
            "8\t16\t24\t32\t40\t48\t56\t64\t72\t80\t\n",
            "9\t18\t27\t36\t45\t54\t63\t72\t81\t90\t\n",
            "10\t20\t30\t40\t50\t60\t70\t80\t90\t100\t\n"
          ]
        }
      ],
      "source": [
        "linha = 1\n",
        "coluna = 1\n",
        "while linha <= 10:\n",
        "  while coluna <= 10:\n",
        "    print(linha * coluna, end='\\t')\n",
        "    coluna = coluna + 1\n",
        "  linha = linha + 1\n",
        "  print()\n",
        "  coluna = 1 #para retornar para a primeira coluna\n",
        "\n",
        "\n"
      ]
    },
    {
      "cell_type": "code",
      "source": [
        "x= 1\n",
        "count = 0\n",
        "while x<3:\n",
        "  y=0\n",
        "  while y<=4:\n",
        "    #iteração\n",
        "    y=y+1\n",
        "  x = x+1"
      ],
      "metadata": {
        "id": "2WseZAK6AeYF"
      },
      "execution_count": 4,
      "outputs": []
    },
    {
      "cell_type": "code",
      "source": [
        "print(x)"
      ],
      "metadata": {
        "colab": {
          "base_uri": "https://localhost:8080/"
        },
        "id": "Yg-9Pp6JCgdm",
        "outputId": "1cce14f6-9d4b-41e4-db10-0875456c471b"
      },
      "execution_count": 5,
      "outputs": [
        {
          "output_type": "stream",
          "name": "stdout",
          "text": [
            "3\n"
          ]
        }
      ]
    },
    {
      "cell_type": "code",
      "source": [
        "fora = 5 #iterações valendo 4,3,2,1\n",
        "while fora > 0:\n",
        "  dentro = 0\n",
        "  while dentro < fora: #o valor do fora não entra\n",
        "    print('oi')\n",
        "    dentro=dentro + 1\n",
        "  fora = fora - 1\n",
        "  print()#imprimindo cada iteração com um espaço para observar"
      ],
      "metadata": {
        "colab": {
          "base_uri": "https://localhost:8080/"
        },
        "id": "90XEidbKCrlF",
        "outputId": "74e1ba5f-ed45-42ec-a29c-7304238febd6"
      },
      "execution_count": 7,
      "outputs": [
        {
          "output_type": "stream",
          "name": "stdout",
          "text": [
            "oi\n",
            "oi\n",
            "oi\n",
            "oi\n",
            "oi\n",
            "\n",
            "oi\n",
            "oi\n",
            "oi\n",
            "oi\n",
            "\n",
            "oi\n",
            "oi\n",
            "oi\n",
            "\n",
            "oi\n",
            "oi\n",
            "\n",
            "oi\n",
            "\n"
          ]
        }
      ]
    },
    {
      "cell_type": "markdown",
      "source": [
        "Quais trechos completam corretamente o programa para que ele imprima a tabuada de **1 a 10**"
      ],
      "metadata": {
        "id": "Gxwlx-5fEsPp"
      }
    },
    {
      "cell_type": "code",
      "source": [
        "tab = 1\n",
        "while tab <= 10:\n",
        "  print(f'tabuada do {tab} :', end='\\t')\n",
        "  i = 1\n",
        "  while i <= 10:\n",
        "    print(tab*i, end='\\t')\n",
        "    i = i + 1\n",
        "  print()\n",
        "  tab = tab + 1"
      ],
      "metadata": {
        "colab": {
          "base_uri": "https://localhost:8080/"
        },
        "id": "eHHaqFD-DUtb",
        "outputId": "2d61cfa9-b2e3-45f2-edc8-72573364e2e4"
      },
      "execution_count": 8,
      "outputs": [
        {
          "output_type": "stream",
          "name": "stdout",
          "text": [
            "tabuada do 1 :\t1\t2\t3\t4\t5\t6\t7\t8\t9\t10\t\n",
            "tabuada do 2 :\t2\t4\t6\t8\t10\t12\t14\t16\t18\t20\t\n",
            "tabuada do 3 :\t3\t6\t9\t12\t15\t18\t21\t24\t27\t30\t\n",
            "tabuada do 4 :\t4\t8\t12\t16\t20\t24\t28\t32\t36\t40\t\n",
            "tabuada do 5 :\t5\t10\t15\t20\t25\t30\t35\t40\t45\t50\t\n",
            "tabuada do 6 :\t6\t12\t18\t24\t30\t36\t42\t48\t54\t60\t\n",
            "tabuada do 7 :\t7\t14\t21\t28\t35\t42\t49\t56\t63\t70\t\n",
            "tabuada do 8 :\t8\t16\t24\t32\t40\t48\t56\t64\t72\t80\t\n",
            "tabuada do 9 :\t9\t18\t27\t36\t45\t54\t63\t72\t81\t90\t\n",
            "tabuada do 10 :\t10\t20\t30\t40\t50\t60\t70\t80\t90\t100\t\n"
          ]
        }
      ]
    },
    {
      "cell_type": "markdown",
      "source": [
        "O trecho acima obedece as especificações."
      ],
      "metadata": {
        "id": "AlMibPVrFZUK"
      }
    },
    {
      "cell_type": "code",
      "source": [
        "tab = 0\n",
        "while tab < 10:\n",
        "  tab = tab + 1 #quando chegar em 9 acrescentará + 1, para fazer o 10\n",
        "  i = 0\n",
        "  while i < 10:\n",
        "    i = i + 1#quando chegar em 9 acrescentará + 1, para fazer o 10\n",
        "    print(f'{tab} X {i} = ', tab*i)\n",
        "  print()"
      ],
      "metadata": {
        "colab": {
          "base_uri": "https://localhost:8080/"
        },
        "id": "5Xz6JgOsFUaQ",
        "outputId": "a147dc4a-3d36-43e8-81d4-edc146ee293a"
      },
      "execution_count": 9,
      "outputs": [
        {
          "output_type": "stream",
          "name": "stdout",
          "text": [
            "1 X 1 =  1\n",
            "1 X 2 =  2\n",
            "1 X 3 =  3\n",
            "1 X 4 =  4\n",
            "1 X 5 =  5\n",
            "1 X 6 =  6\n",
            "1 X 7 =  7\n",
            "1 X 8 =  8\n",
            "1 X 9 =  9\n",
            "1 X 10 =  10\n",
            "\n",
            "2 X 1 =  2\n",
            "2 X 2 =  4\n",
            "2 X 3 =  6\n",
            "2 X 4 =  8\n",
            "2 X 5 =  10\n",
            "2 X 6 =  12\n",
            "2 X 7 =  14\n",
            "2 X 8 =  16\n",
            "2 X 9 =  18\n",
            "2 X 10 =  20\n",
            "\n",
            "3 X 1 =  3\n",
            "3 X 2 =  6\n",
            "3 X 3 =  9\n",
            "3 X 4 =  12\n",
            "3 X 5 =  15\n",
            "3 X 6 =  18\n",
            "3 X 7 =  21\n",
            "3 X 8 =  24\n",
            "3 X 9 =  27\n",
            "3 X 10 =  30\n",
            "\n",
            "4 X 1 =  4\n",
            "4 X 2 =  8\n",
            "4 X 3 =  12\n",
            "4 X 4 =  16\n",
            "4 X 5 =  20\n",
            "4 X 6 =  24\n",
            "4 X 7 =  28\n",
            "4 X 8 =  32\n",
            "4 X 9 =  36\n",
            "4 X 10 =  40\n",
            "\n",
            "5 X 1 =  5\n",
            "5 X 2 =  10\n",
            "5 X 3 =  15\n",
            "5 X 4 =  20\n",
            "5 X 5 =  25\n",
            "5 X 6 =  30\n",
            "5 X 7 =  35\n",
            "5 X 8 =  40\n",
            "5 X 9 =  45\n",
            "5 X 10 =  50\n",
            "\n",
            "6 X 1 =  6\n",
            "6 X 2 =  12\n",
            "6 X 3 =  18\n",
            "6 X 4 =  24\n",
            "6 X 5 =  30\n",
            "6 X 6 =  36\n",
            "6 X 7 =  42\n",
            "6 X 8 =  48\n",
            "6 X 9 =  54\n",
            "6 X 10 =  60\n",
            "\n",
            "7 X 1 =  7\n",
            "7 X 2 =  14\n",
            "7 X 3 =  21\n",
            "7 X 4 =  28\n",
            "7 X 5 =  35\n",
            "7 X 6 =  42\n",
            "7 X 7 =  49\n",
            "7 X 8 =  56\n",
            "7 X 9 =  63\n",
            "7 X 10 =  70\n",
            "\n",
            "8 X 1 =  8\n",
            "8 X 2 =  16\n",
            "8 X 3 =  24\n",
            "8 X 4 =  32\n",
            "8 X 5 =  40\n",
            "8 X 6 =  48\n",
            "8 X 7 =  56\n",
            "8 X 8 =  64\n",
            "8 X 9 =  72\n",
            "8 X 10 =  80\n",
            "\n",
            "9 X 1 =  9\n",
            "9 X 2 =  18\n",
            "9 X 3 =  27\n",
            "9 X 4 =  36\n",
            "9 X 5 =  45\n",
            "9 X 6 =  54\n",
            "9 X 7 =  63\n",
            "9 X 8 =  72\n",
            "9 X 9 =  81\n",
            "9 X 10 =  90\n",
            "\n",
            "10 X 1 =  10\n",
            "10 X 2 =  20\n",
            "10 X 3 =  30\n",
            "10 X 4 =  40\n",
            "10 X 5 =  50\n",
            "10 X 6 =  60\n",
            "10 X 7 =  70\n",
            "10 X 8 =  80\n",
            "10 X 9 =  90\n",
            "10 X 10 =  100\n",
            "\n"
          ]
        }
      ]
    },
    {
      "cell_type": "markdown",
      "source": [
        "O trecho acima obedece as especificações."
      ],
      "metadata": {
        "id": "RoB7xpI1Gbj3"
      }
    },
    {
      "cell_type": "code",
      "source": [
        "tab=1\n",
        "i = 1\n",
        "while tab <= 10 and i <= 10:\n",
        "  print(f'{tab} X {i} = ', tab*i)\n",
        "  i = i + 1\n",
        "  tab = tab + 1\n",
        "print()"
      ],
      "metadata": {
        "colab": {
          "base_uri": "https://localhost:8080/"
        },
        "id": "oHahLaJYF2Ul",
        "outputId": "b8793c4b-baec-450b-8fb0-612bec4469b5"
      },
      "execution_count": 10,
      "outputs": [
        {
          "output_type": "stream",
          "name": "stdout",
          "text": [
            "1 X 1 =  1\n",
            "2 X 2 =  4\n",
            "3 X 3 =  9\n",
            "4 X 4 =  16\n",
            "5 X 5 =  25\n",
            "6 X 6 =  36\n",
            "7 X 7 =  49\n",
            "8 X 8 =  64\n",
            "9 X 9 =  81\n",
            "10 X 10 =  100\n",
            "\n"
          ]
        }
      ]
    },
    {
      "cell_type": "markdown",
      "source": [
        "Este trecho não obedece às especificações."
      ],
      "metadata": {
        "id": "C9LG3FQlHHkb"
      }
    },
    {
      "cell_type": "code",
      "source": [
        "tab = 1\n",
        "while tab <= 10:\n",
        "  print(f'Tabuada do {tab} :', end='\\t')\n",
        "  i = 1\n",
        "  print(tab*i, end = '\\t')\n",
        "  i = i + 1\n",
        "  print()\n",
        "  tab=tab + 1"
      ],
      "metadata": {
        "colab": {
          "base_uri": "https://localhost:8080/"
        },
        "id": "idZ3V0RpG6A2",
        "outputId": "d14fe728-d9f8-4b14-a035-28c6da974f0e"
      },
      "execution_count": 11,
      "outputs": [
        {
          "output_type": "stream",
          "name": "stdout",
          "text": [
            "Tabuada do 1 :\t1\t\n",
            "Tabuada do 2 :\t2\t\n",
            "Tabuada do 3 :\t3\t\n",
            "Tabuada do 4 :\t4\t\n",
            "Tabuada do 5 :\t5\t\n",
            "Tabuada do 6 :\t6\t\n",
            "Tabuada do 7 :\t7\t\n",
            "Tabuada do 8 :\t8\t\n",
            "Tabuada do 9 :\t9\t\n",
            "Tabuada do 10 :\t10\t\n"
          ]
        }
      ]
    },
    {
      "cell_type": "markdown",
      "source": [
        "Este trecho não obedece às especificações"
      ],
      "metadata": {
        "id": "2AXtKWFIIA-9"
      }
    },
    {
      "cell_type": "code",
      "source": [
        "tab = 1\n",
        "while tab <= 10:\n",
        "  i = 1\n",
        "  while i <= 10:\n",
        "    print(f'{tab} X {i} =', tab*i)\n",
        "    i = i + 1\n",
        "  print()\n",
        "  tab = tab + 1"
      ],
      "metadata": {
        "colab": {
          "base_uri": "https://localhost:8080/"
        },
        "id": "CNDaNp3-Hsai",
        "outputId": "1909ed9e-7808-4111-d5d3-c37db1134c30"
      },
      "execution_count": 12,
      "outputs": [
        {
          "output_type": "stream",
          "name": "stdout",
          "text": [
            "1 X 1 = 1\n",
            "1 X 2 = 2\n",
            "1 X 3 = 3\n",
            "1 X 4 = 4\n",
            "1 X 5 = 5\n",
            "1 X 6 = 6\n",
            "1 X 7 = 7\n",
            "1 X 8 = 8\n",
            "1 X 9 = 9\n",
            "1 X 10 = 10\n",
            "\n",
            "2 X 1 = 2\n",
            "2 X 2 = 4\n",
            "2 X 3 = 6\n",
            "2 X 4 = 8\n",
            "2 X 5 = 10\n",
            "2 X 6 = 12\n",
            "2 X 7 = 14\n",
            "2 X 8 = 16\n",
            "2 X 9 = 18\n",
            "2 X 10 = 20\n",
            "\n",
            "3 X 1 = 3\n",
            "3 X 2 = 6\n",
            "3 X 3 = 9\n",
            "3 X 4 = 12\n",
            "3 X 5 = 15\n",
            "3 X 6 = 18\n",
            "3 X 7 = 21\n",
            "3 X 8 = 24\n",
            "3 X 9 = 27\n",
            "3 X 10 = 30\n",
            "\n",
            "4 X 1 = 4\n",
            "4 X 2 = 8\n",
            "4 X 3 = 12\n",
            "4 X 4 = 16\n",
            "4 X 5 = 20\n",
            "4 X 6 = 24\n",
            "4 X 7 = 28\n",
            "4 X 8 = 32\n",
            "4 X 9 = 36\n",
            "4 X 10 = 40\n",
            "\n",
            "5 X 1 = 5\n",
            "5 X 2 = 10\n",
            "5 X 3 = 15\n",
            "5 X 4 = 20\n",
            "5 X 5 = 25\n",
            "5 X 6 = 30\n",
            "5 X 7 = 35\n",
            "5 X 8 = 40\n",
            "5 X 9 = 45\n",
            "5 X 10 = 50\n",
            "\n",
            "6 X 1 = 6\n",
            "6 X 2 = 12\n",
            "6 X 3 = 18\n",
            "6 X 4 = 24\n",
            "6 X 5 = 30\n",
            "6 X 6 = 36\n",
            "6 X 7 = 42\n",
            "6 X 8 = 48\n",
            "6 X 9 = 54\n",
            "6 X 10 = 60\n",
            "\n",
            "7 X 1 = 7\n",
            "7 X 2 = 14\n",
            "7 X 3 = 21\n",
            "7 X 4 = 28\n",
            "7 X 5 = 35\n",
            "7 X 6 = 42\n",
            "7 X 7 = 49\n",
            "7 X 8 = 56\n",
            "7 X 9 = 63\n",
            "7 X 10 = 70\n",
            "\n",
            "8 X 1 = 8\n",
            "8 X 2 = 16\n",
            "8 X 3 = 24\n",
            "8 X 4 = 32\n",
            "8 X 5 = 40\n",
            "8 X 6 = 48\n",
            "8 X 7 = 56\n",
            "8 X 8 = 64\n",
            "8 X 9 = 72\n",
            "8 X 10 = 80\n",
            "\n",
            "9 X 1 = 9\n",
            "9 X 2 = 18\n",
            "9 X 3 = 27\n",
            "9 X 4 = 36\n",
            "9 X 5 = 45\n",
            "9 X 6 = 54\n",
            "9 X 7 = 63\n",
            "9 X 8 = 72\n",
            "9 X 9 = 81\n",
            "9 X 10 = 90\n",
            "\n",
            "10 X 1 = 10\n",
            "10 X 2 = 20\n",
            "10 X 3 = 30\n",
            "10 X 4 = 40\n",
            "10 X 5 = 50\n",
            "10 X 6 = 60\n",
            "10 X 7 = 70\n",
            "10 X 8 = 80\n",
            "10 X 9 = 90\n",
            "10 X 10 = 100\n",
            "\n"
          ]
        }
      ]
    },
    {
      "cell_type": "markdown",
      "source": [
        "Este trecho obedece às especificações"
      ],
      "metadata": {
        "id": "vAvgwI_SIrw7"
      }
    },
    {
      "cell_type": "code",
      "source": [],
      "metadata": {
        "id": "mRfl4M7aIaID"
      },
      "execution_count": null,
      "outputs": []
    }
  ]
}