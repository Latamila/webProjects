{
  "nbformat": 4,
  "nbformat_minor": 0,
  "metadata": {
    "colab": {
      "provenance": [],
      "authorship_tag": "ABX9TyOXeZDQ4xLDzmGAGa9NWGpo",
      "include_colab_link": true
    },
    "kernelspec": {
      "name": "python3",
      "display_name": "Python 3"
    },
    "language_info": {
      "name": "python"
    }
  },
  "cells": [
    {
      "cell_type": "markdown",
      "metadata": {
        "id": "view-in-github",
        "colab_type": "text"
      },
      "source": [
        "<a href=\"https://colab.research.google.com/github/Latamila/webProjects/blob/main/Fatorial_funcao.ipynb\" target=\"_parent\"><img src=\"https://colab.research.google.com/assets/colab-badge.svg\" alt=\"Open In Colab\"/></a>"
      ]
    },
    {
      "cell_type": "code",
      "source": [
        "n = int(input('digite numero: '))\n",
        "while n >=0:\n",
        "  fatorial = 1\n",
        "  while n > 1:\n",
        "    fatorial = fatorial * n\n",
        "    n = n - 1\n",
        "  print(fatorial)\n",
        "\n",
        "  n = int(input('digite um numero'))"
      ],
      "metadata": {
        "colab": {
          "base_uri": "https://localhost:8080/"
        },
        "id": "34jS4HAeQ8gF",
        "outputId": "6561d20d-3063-40b7-8ace-e9f34297d8bf"
      },
      "execution_count": 16,
      "outputs": [
        {
          "name": "stdout",
          "output_type": "stream",
          "text": [
            "digite numero: 4\n",
            "24\n",
            "digite um numero-10\n"
          ]
        }
      ]
    },
    {
      "cell_type": "markdown",
      "source": [
        "##CRIANDO FUNÇÕES PARA DEIXAR O CODIGO MAIS ORGANIZADO"
      ],
      "metadata": {
        "id": "uoEIm_PoVp8M"
      }
    },
    {
      "cell_type": "code",
      "source": [
        "def fatorial(n):\n",
        "  fatorial = 1\n",
        "  while n > 1:\n",
        "    fatorial = fatorial * n\n",
        "    n = n - 1\n",
        "  return fatorial"
      ],
      "metadata": {
        "id": "FkN9wfewRfWg"
      },
      "execution_count": 17,
      "outputs": []
    },
    {
      "cell_type": "code",
      "source": [
        "n= int(input('digite um numero: '))\n",
        "while n > 0:\n",
        "  print(fatorial(n))\n",
        "  n= int(input('digite um numero: '))\n"
      ],
      "metadata": {
        "colab": {
          "base_uri": "https://localhost:8080/"
        },
        "id": "OzdXd6lsVGLS",
        "outputId": "daf65743-58a2-45ac-bf69-fdb099737144"
      },
      "execution_count": 19,
      "outputs": [
        {
          "name": "stdout",
          "output_type": "stream",
          "text": [
            "digite um numero: 4\n",
            "24\n",
            "digite um numero: 6\n",
            "720\n",
            "digite um numero: -10\n"
          ]
        }
      ]
    },
    {
      "cell_type": "code",
      "source": [],
      "metadata": {
        "id": "oIA-SZxWVaDE"
      },
      "execution_count": null,
      "outputs": []
    }
  ]
}