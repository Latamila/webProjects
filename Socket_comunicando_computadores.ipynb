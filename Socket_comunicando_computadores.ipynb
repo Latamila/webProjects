{
  "nbformat": 4,
  "nbformat_minor": 0,
  "metadata": {
    "colab": {
      "provenance": [],
      "authorship_tag": "ABX9TyM5CdaA79/Z6vrmt2kM1bP7",
      "include_colab_link": true
    },
    "kernelspec": {
      "name": "python3",
      "display_name": "Python 3"
    },
    "language_info": {
      "name": "python"
    }
  },
  "cells": [
    {
      "cell_type": "markdown",
      "metadata": {
        "id": "view-in-github",
        "colab_type": "text"
      },
      "source": [
        "<a href=\"https://colab.research.google.com/github/Latamila/webProjects/blob/main/Socket_comunicando_computadores.ipynb\" target=\"_parent\"><img src=\"https://colab.research.google.com/assets/colab-badge.svg\" alt=\"Open In Colab\"/></a>"
      ]
    },
    {
      "cell_type": "code",
      "execution_count": 10,
      "metadata": {
        "id": "LzFIOV43leMD"
      },
      "outputs": [],
      "source": [
        "import socket\n"
      ]
    },
    {
      "cell_type": "code",
      "source": [
        "resp = 's'\n",
        "while(resp =='s'):\n",
        "  url = input('digite uma url: ')\n",
        "  ip = socket.gethostbyname(url)\n",
        "  print('O IP referente a url informada é: ',ip)\n",
        "  resp = input('digite <s> para continuar: ').lower()"
      ],
      "metadata": {
        "colab": {
          "base_uri": "https://localhost:8080/"
        },
        "id": "Eys00KTal1fi",
        "outputId": "a0910d44-8179-4bef-903b-3ab031d8bd25"
      },
      "execution_count": 11,
      "outputs": [
        {
          "name": "stdout",
          "output_type": "stream",
          "text": [
            "digite uma url: www.fiap.com\n",
            "O IP referente a url informada é:  81.24.32.183\n",
            "digite <s> para continuar: o\n"
          ]
        }
      ]
    },
    {
      "cell_type": "code",
      "source": [
        "from socket import *"
      ],
      "metadata": {
        "id": "Z3Imb_4Zoga1"
      },
      "execution_count": 14,
      "outputs": []
    },
    {
      "cell_type": "code",
      "source": [
        "servidor = '127.0.0.1' #local host\n",
        "porta = 43210\n",
        "\n",
        "obj_socket = socket(AF_INET, SOCK_STREAM)\n",
        "obj_socket.bind((servidor, porta))\n",
        "obj_socket.listen(2)\n",
        "print('Aguardando cliente....')\n",
        "\n",
        "while True:\n",
        "  con, cliente = obj_socket.accept()\n",
        "  print('Conectado com ', cliente)\n",
        "  while True:\n",
        "    msg_recebida = str(con.recv(1024))\n",
        "    print('Recebemos: ',msg_recebida)\n",
        "    msg_enviada = b'Olah cliente'\n",
        "    con.send(msg_enviada)\n",
        "    break\n",
        "  con.close()\n"
      ],
      "metadata": {
        "colab": {
          "base_uri": "https://localhost:8080/"
        },
        "id": "pCIBbNbImPhM",
        "outputId": "0b298abb-de76-4d94-ec60-b8751d3e65e9"
      },
      "execution_count": null,
      "outputs": [
        {
          "output_type": "stream",
          "name": "stdout",
          "text": [
            "Aguardando cliente....\n"
          ]
        }
      ]
    },
    {
      "cell_type": "code",
      "source": [
        ""
      ],
      "metadata": {
        "id": "2ZKwuuiioAX9"
      },
      "execution_count": null,
      "outputs": []
    }
  ]
}