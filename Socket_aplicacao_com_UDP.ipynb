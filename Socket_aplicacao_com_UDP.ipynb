{
  "nbformat": 4,
  "nbformat_minor": 0,
  "metadata": {
    "colab": {
      "provenance": [],
      "authorship_tag": "ABX9TyMoycrKAkQv9y+NKAC+GT9l",
      "include_colab_link": true
    },
    "kernelspec": {
      "name": "python3",
      "display_name": "Python 3"
    },
    "language_info": {
      "name": "python"
    }
  },
  "cells": [
    {
      "cell_type": "markdown",
      "metadata": {
        "id": "view-in-github",
        "colab_type": "text"
      },
      "source": [
        "<a href=\"https://colab.research.google.com/github/Latamila/webProjects/blob/main/Socket_aplicacao_com_UDP.ipynb\" target=\"_parent\"><img src=\"https://colab.research.google.com/assets/colab-badge.svg\" alt=\"Open In Colab\"/></a>"
      ]
    },
    {
      "cell_type": "code",
      "execution_count": 10,
      "metadata": {
        "id": "LzFIOV43leMD"
      },
      "outputs": [],
      "source": [
        "import socket\n"
      ]
    },
    {
      "cell_type": "code",
      "source": [
        "resp = 's'\n",
        "while(resp =='s'):\n",
        "  url = input('digite uma url: ')\n",
        "  ip = socket.gethostbyname(url)\n",
        "  print('O IP referente a url informada é: ',ip)\n",
        "  resp = input('digite <s> para continuar: ').lower()"
      ],
      "metadata": {
        "colab": {
          "base_uri": "https://localhost:8080/"
        },
        "id": "Eys00KTal1fi",
        "outputId": "a0910d44-8179-4bef-903b-3ab031d8bd25"
      },
      "execution_count": 11,
      "outputs": [
        {
          "name": "stdout",
          "output_type": "stream",
          "text": [
            "digite uma url: www.fiap.com\n",
            "O IP referente a url informada é:  81.24.32.183\n",
            "digite <s> para continuar: o\n"
          ]
        }
      ]
    },
    {
      "cell_type": "code",
      "source": [
        "from socket import *"
      ],
      "metadata": {
        "id": "Z3Imb_4Zoga1"
      },
      "execution_count": 14,
      "outputs": []
    },
    {
      "cell_type": "code",
      "source": [
        "servidor = '127.0.0.1' #local host\n",
        "porta = 43210\n",
        "\n",
        "obj_socket = socket(AF_INET, SOCK_DGRAM)\n",
        "obj_socket.bind((servidor, porta))\n",
        "print('Servidor pronto....')\n",
        "\n",
        "while True:\n",
        "  dados,origem = obj_socket.recvfrom(65535)\n",
        "  print('Origem............: ', origem)\n",
        "  print('Dados recebidos.: ', dados.decode())\n",
        "  resposta = input('digite a resposta: ')\n",
        "  obj_socket.sendto(resposta.encode(), origem)\n",
        "\n",
        "obj_socket.close()"
      ],
      "metadata": {
        "id": "pCIBbNbImPhM"
      },
      "execution_count": null,
      "outputs": []
    },
    {
      "cell_type": "code",
      "source": [
        ""
      ],
      "metadata": {
        "id": "2ZKwuuiioAX9"
      },
      "execution_count": null,
      "outputs": []
    }
  ]
}